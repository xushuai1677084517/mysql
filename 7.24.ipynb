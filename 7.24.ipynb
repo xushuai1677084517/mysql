{
 "cells": [
  {
   "cell_type": "markdown",
   "metadata": {},
   "source": [
    "# 更多字符串和特殊方法\n",
    "- 前面我们已经学了类，在Python中还有一些特殊的方法起着非常重要的作用，这里会介绍一些特殊的方法和运算符的重载，以及使用特殊方法设计类"
   ]
  },
  {
   "cell_type": "markdown",
   "metadata": {},
   "source": [
    "## str 类\n",
    "- 一个str对象是不可变的，也就是说，一旦创建了这个字符串，那么它的内容在认为不改变的情况下是不会变的\n",
    "- s1 = str()\n",
    "- s2 = str('welcome to Python')"
   ]
  },
  {
   "cell_type": "code",
   "execution_count": 1,
   "metadata": {},
   "outputs": [
    {
     "name": "stdout",
     "output_type": "stream",
     "text": [
      "zzz\n"
     ]
    }
   ],
   "source": [
    "a='zzz'\n",
    "print(a)"
   ]
  },
  {
   "cell_type": "code",
   "execution_count": 2,
   "metadata": {},
   "outputs": [
    {
     "data": {
      "text/plain": [
       "''"
      ]
     },
     "execution_count": 2,
     "metadata": {},
     "output_type": "execute_result"
    }
   ],
   "source": [
    "b = str()\n",
    "b"
   ]
  },
  {
   "cell_type": "code",
   "execution_count": 4,
   "metadata": {},
   "outputs": [
    {
     "data": {
      "text/plain": [
       "'2342333'"
      ]
     },
     "execution_count": 4,
     "metadata": {},
     "output_type": "execute_result"
    }
   ],
   "source": [
    "#str强制类型转换\n",
    "b=str(2342333)\n",
    "b"
   ]
  },
  {
   "cell_type": "markdown",
   "metadata": {},
   "source": [
    "## 创建两个对象，分别观察两者id\n",
    "- id为Python内存地址"
   ]
  },
  {
   "cell_type": "code",
   "execution_count": 6,
   "metadata": {},
   "outputs": [
    {
     "name": "stdout",
     "output_type": "stream",
     "text": [
      "2000601786664\n",
      "2000601786664\n"
     ]
    }
   ],
   "source": [
    "print(id('a'))\n",
    "print(id('a'))"
   ]
  },
  {
   "cell_type": "code",
   "execution_count": 8,
   "metadata": {},
   "outputs": [
    {
     "name": "stdout",
     "output_type": "stream",
     "text": [
      "2000601786664\n",
      "2000601784984\n"
     ]
    }
   ],
   "source": [
    "a='a'\n",
    "b='a'\n",
    "print(id('a'))\n",
    "print(id('b'))"
   ]
  },
  {
   "cell_type": "code",
   "execution_count": 9,
   "metadata": {},
   "outputs": [
    {
     "name": "stdout",
     "output_type": "stream",
     "text": [
      "2000601786664\n",
      "2000601784984\n"
     ]
    }
   ],
   "source": [
    "a=2000\n",
    "b=5000\n",
    "print(id('a'))\n",
    "print(id('b'))"
   ]
  },
  {
   "cell_type": "markdown",
   "metadata": {},
   "source": [
    "## 处理字符串的函数\n",
    "- len\n",
    "- max\n",
    "- min\n",
    "- 字符串一切是按照ASCII码值进行比较"
   ]
  },
  {
   "cell_type": "code",
   "execution_count": 11,
   "metadata": {},
   "outputs": [
    {
     "data": {
      "text/plain": [
       "3"
      ]
     },
     "execution_count": 11,
     "metadata": {},
     "output_type": "execute_result"
    }
   ],
   "source": [
    "#len返回字符串长度\n",
    "len('abc')"
   ]
  },
  {
   "cell_type": "code",
   "execution_count": 12,
   "metadata": {},
   "outputs": [
    {
     "name": "stdout",
     "output_type": "stream",
     "text": [
      "a\n",
      "n\n",
      "c\n",
      "d\n",
      "e\n"
     ]
    }
   ],
   "source": [
    "i=0\n",
    "a='ancde'\n",
    "while i<len(a):\n",
    "    print(a[i])\n",
    "    i += 1"
   ]
  },
  {
   "cell_type": "markdown",
   "metadata": {},
   "source": [
    "## 下角标运算符 []\n",
    "- 一个字符串是一个字符序列，可以通过索引进行访问\n",
    "- 观察字符串是否是一个可迭代序列  \\__iter__"
   ]
  },
  {
   "cell_type": "code",
   "execution_count": 14,
   "metadata": {},
   "outputs": [
    {
     "data": {
      "text/plain": [
       "'a'"
      ]
     },
     "execution_count": 14,
     "metadata": {},
     "output_type": "execute_result"
    }
   ],
   "source": [
    "a = 'wanghaha'\n",
    "a[7]"
   ]
  },
  {
   "cell_type": "markdown",
   "metadata": {},
   "source": [
    "## 切片 [start: end]\n",
    "- start 默认值为0\n",
    "- end 默认值为-1"
   ]
  },
  {
   "cell_type": "code",
   "execution_count": 1,
   "metadata": {},
   "outputs": [
    {
     "data": {
      "text/plain": [
       "'gh'"
      ]
     },
     "execution_count": 1,
     "metadata": {},
     "output_type": "execute_result"
    }
   ],
   "source": [
    "a='wanghaha'\n",
    "a[3:5]#前闭后开的区间"
   ]
  },
  {
   "cell_type": "code",
   "execution_count": 17,
   "metadata": {},
   "outputs": [
    {
     "data": {
      "text/plain": [
       "'wanghaha'"
      ]
     },
     "execution_count": 17,
     "metadata": {},
     "output_type": "execute_result"
    }
   ],
   "source": [
    "a='wanghaha'\n",
    "a[::]"
   ]
  },
  {
   "cell_type": "code",
   "execution_count": 18,
   "metadata": {},
   "outputs": [
    {
     "data": {
      "text/plain": [
       "'a'"
      ]
     },
     "execution_count": 18,
     "metadata": {},
     "output_type": "execute_result"
    }
   ],
   "source": [
    "a='wanghaha'\n",
    "a[-1]#相当于len-1"
   ]
  },
  {
   "cell_type": "code",
   "execution_count": 26,
   "metadata": {},
   "outputs": [
    {
     "data": {
      "text/plain": [
       "'ace'"
      ]
     },
     "execution_count": 26,
     "metadata": {},
     "output_type": "execute_result"
    }
   ],
   "source": [
    "#打印奇数位\n",
    "b='abcdef'\n",
    "b[0:6:2]"
   ]
  },
  {
   "cell_type": "code",
   "execution_count": 28,
   "metadata": {},
   "outputs": [
    {
     "data": {
      "text/plain": [
       "'bdf'"
      ]
     },
     "execution_count": 28,
     "metadata": {},
     "output_type": "execute_result"
    }
   ],
   "source": [
    "#打印偶数位\n",
    "b='abcdef'\n",
    "b[1:6:2]"
   ]
  },
  {
   "cell_type": "markdown",
   "metadata": {},
   "source": [
    "## 链接运算符 + 和复制运算符 *\n",
    "- \\+ 链接多个字符串，同时''.join()也是\n",
    "- \\* 复制多个字符串"
   ]
  },
  {
   "cell_type": "code",
   "execution_count": 29,
   "metadata": {},
   "outputs": [
    {
     "data": {
      "text/plain": [
       "'sb'"
      ]
     },
     "execution_count": 29,
     "metadata": {},
     "output_type": "execute_result"
    }
   ],
   "source": [
    "'s'+'b'"
   ]
  },
  {
   "cell_type": "code",
   "execution_count": 30,
   "metadata": {},
   "outputs": [
    {
     "data": {
      "text/plain": [
       "'ss'"
      ]
     },
     "execution_count": 30,
     "metadata": {},
     "output_type": "execute_result"
    }
   ],
   "source": [
    "'s'*2"
   ]
  },
  {
   "cell_type": "code",
   "execution_count": 54,
   "metadata": {},
   "outputs": [
    {
     "name": "stdout",
     "output_type": "stream",
     "text": [
      "* * * * *  \n",
      "*       *  \n",
      "*       *  \n",
      "*       *  \n",
      "* * * * *  \n"
     ]
    }
   ],
   "source": [
    "#用*打印正方形\n",
    "for i in range(5):\n",
    "    for j in range(5):\n",
    "        if i == 0 or i == 4:\n",
    "            print('*',end=\" \")\n",
    "        elif j == 0 or j==4:\n",
    "            print('*',end=\" \")\n",
    "        else:\n",
    "            print(' ',end=' ')\n",
    "    print(' ')\n",
    "        "
   ]
  },
  {
   "cell_type": "code",
   "execution_count": 56,
   "metadata": {},
   "outputs": [
    {
     "name": "stdout",
     "output_type": "stream",
     "text": [
      "*****\n",
      "*   *\n",
      "*   *\n",
      "*****\n"
     ]
    }
   ],
   "source": [
    "for i in range(0,4):\n",
    "    if i ==0 or i==3:\n",
    "        print(\"*\"*5)\n",
    "    else:\n",
    "        print('*'+' '*3+'*')"
   ]
  },
  {
   "cell_type": "code",
   "execution_count": 58,
   "metadata": {},
   "outputs": [
    {
     "data": {
      "text/plain": [
       "'a!b!c'"
      ]
     },
     "execution_count": 58,
     "metadata": {},
     "output_type": "execute_result"
    }
   ],
   "source": [
    "'!'.join('abc')"
   ]
  },
  {
   "cell_type": "code",
   "execution_count": 59,
   "metadata": {},
   "outputs": [],
   "source": [
    "import requests"
   ]
  },
  {
   "cell_type": "markdown",
   "metadata": {},
   "source": [
    "## in 和 not in 运算符\n",
    "- in :判断某个字符是否在字符串内 \n",
    "- not in ：判断某个字符是否不在字符串内\n",
    "- 返回的是布尔值"
   ]
  },
  {
   "cell_type": "code",
   "execution_count": 60,
   "metadata": {},
   "outputs": [
    {
     "data": {
      "text/plain": [
       "True"
      ]
     },
     "execution_count": 60,
     "metadata": {},
     "output_type": "execute_result"
    }
   ],
   "source": [
    "'a' in 'aaa'"
   ]
  },
  {
   "cell_type": "code",
   "execution_count": 61,
   "metadata": {},
   "outputs": [
    {
     "data": {
      "text/plain": [
       "False"
      ]
     },
     "execution_count": 61,
     "metadata": {},
     "output_type": "execute_result"
    }
   ],
   "source": [
    "a = '字符串'\n",
    "b = '哈'\n",
    "b in a"
   ]
  },
  {
   "cell_type": "code",
   "execution_count": 62,
   "metadata": {},
   "outputs": [
    {
     "data": {
      "text/plain": [
       "True"
      ]
     },
     "execution_count": 62,
     "metadata": {},
     "output_type": "execute_result"
    }
   ],
   "source": [
    "a = '字符串'\n",
    "b = '哈'\n",
    "b not in a"
   ]
  },
  {
   "cell_type": "code",
   "execution_count": 83,
   "metadata": {},
   "outputs": [
    {
     "name": "stdout",
     "output_type": "stream",
     "text": [
      "165279069@qq.com\n",
      "\n",
      "154790981@qq.com\n",
      "\n",
      "139615818@qq.com\n",
      "\n",
      "11000@qq.com\n",
      "\n",
      "111111@qq.com\n",
      "\n",
      "195777728@qq.com\n",
      "\n",
      "136886754@qq.com\n",
      "\n",
      "1053633239@qq.com\n",
      "\n",
      "14153883@qq.com\n",
      "\n",
      "173835671@qq.com\n",
      "\n",
      "164744460@qq.com\n",
      "\n",
      "136713731@qq.com\n",
      "\n",
      "10459186@qq.com\n",
      "\n",
      "106319986@qq.com\n",
      "\n",
      "107561490@qq.com\n",
      "\n",
      "12850793@qq.com\n",
      "\n",
      "122663500@qq.com\n",
      "\n",
      "183995222@qq.com\n",
      "\n",
      "1064320261@qq.com\n",
      "\n",
      "105333196@qq.com\n",
      "\n",
      "1011337090@qq.com\n",
      "\n",
      "157607392@qq.com\n",
      "\n",
      "170920940@qq.com\n",
      "\n",
      "121402043@qq.com\n",
      "\n",
      "164905533@qq.com\n",
      "\n",
      "182268431@qq.com\n",
      "\n",
      "14738840@qq.com\n",
      "\n",
      "1054733780@qq.com\n",
      "\n",
      "188171417@qq.com\n",
      "\n",
      "195436209@qq.com\n",
      "\n",
      "122304714@qq.com\n",
      "\n",
      "181729393@qq.com\n",
      "\n",
      "124183777@qq.com\n",
      "\n",
      "1035368111@qq.com\n",
      "\n",
      "151427286@qq.com\n",
      "\n",
      "184703010@qq.com\n",
      "\n",
      "122231438@qq.com\n",
      "\n",
      "121191460@qq.com\n",
      "\n",
      "172489277@qq.com\n",
      "\n",
      "125673775@qq.com\n",
      "\n",
      "181228271@qq.com\n",
      "\n",
      "1010349796@qq.com\n",
      "\n",
      "138896264@qq.com\n",
      "\n",
      "154433684@qq.com\n",
      "\n",
      "104890168@qq.com\n",
      "\n",
      "120509355@qq.com\n",
      "\n",
      "120415323@qq.com\n",
      "\n",
      "181402929@qq.com\n",
      "\n",
      "183933870@qq.com\n",
      "\n",
      "183108615@qq.com\n",
      "\n",
      "123456@qq.com\n",
      "\n",
      "13217363@qq.com\n",
      "\n",
      "124120307@qq.com\n",
      "\n",
      "1718908@qq.com\n",
      "\n",
      "100890419@qq.com\n",
      "\n",
      "157213341@qq.com\n",
      "\n",
      "100201291@qq.com\n",
      "\n",
      "107780198@qq.com\n",
      "\n",
      "1065693111@qq.com\n",
      "\n",
      "179742067@qq.com\n",
      "\n",
      "181369183@qq.com\n",
      "\n",
      "12543456@qq.com\n",
      "\n",
      "156418296@qq.com\n",
      "\n",
      "151313705@qq.com\n",
      "\n",
      "1037799195@qq.com\n",
      "\n",
      "14781415@qq.com\n",
      "\n",
      "1045671096@qq.com\n",
      "\n",
      "123324346534@qq.com\n",
      "\n",
      "1004018737@qq.com\n",
      "\n",
      "123561948@qq.com\n",
      "\n",
      "15719431@qq.com\n",
      "\n",
      "156451277@qq.com\n",
      "\n",
      "12541652@qq.com\n",
      "\n",
      "16197555@qq.com\n",
      "\n",
      "1012621799@qq.com\n",
      "\n",
      "19308517@qq.com\n",
      "\n",
      "15633926@qq.com\n",
      "\n",
      "100900770@qq.com\n",
      "\n",
      "123@qq.com\n",
      "\n",
      "1281495@qq.com\n",
      "\n",
      "116225146@qq.com\n",
      "\n",
      "120888496@qq.com\n",
      "\n",
      "16668544@qq.com\n",
      "\n",
      "10@qq.com\n",
      "\n",
      "120028158@qq.com\n",
      "\n",
      "1052827140@qq.com\n",
      "\n",
      "149823171@qq.com\n",
      "\n",
      "191553014@qq.com\n",
      "\n",
      "106062417@qq.com\n",
      "\n",
      "1059846791@qq.com\n",
      "\n",
      "195106434@qq.com\n",
      "\n",
      "168040691@qq.com\n",
      "\n",
      "14709464@qq.com\n",
      "\n",
      "179847641@qq.com\n",
      "\n",
      "149384195@qq.com\n",
      "\n",
      "120794673@qq.com\n",
      "\n",
      "172954029@qq.com\n",
      "\n",
      "153687540@qq.com\n",
      "\n",
      "125655428@qq.com\n",
      "\n",
      "155043470@qq.com\n",
      "\n",
      "12@qq.com\n",
      "\n",
      "13425345@qq.com\n",
      "\n",
      "115815440@qq.com\n",
      "\n",
      "151273090@qq.com\n",
      "\n",
      "1716225@qq.com\n",
      "\n",
      "178350606@qq.com\n",
      "\n",
      "111111@qq.com\n",
      "\n",
      "123782484@qq.com\n",
      "\n",
      "16562@qq.com\n",
      "\n",
      "103859589@qq.com\n",
      "\n",
      "113376425@qq.com\n",
      "\n",
      "17695642@qq.com\n",
      "\n",
      "17567462@qq.com\n",
      "\n",
      "113066574@qq.com\n",
      "\n",
      "174416162@qq.com\n",
      "\n",
      "154039908@qq.com\n",
      "\n",
      "182153123@qq.com\n",
      "\n",
      "10195924@qq.com\n",
      "\n",
      "112129349@qq.com\n",
      "\n",
      "181848736@qq.com\n",
      "\n",
      "121888565@qq.com\n",
      "\n",
      "14388540@qq.com\n",
      "\n",
      "1128199@qq.com\n",
      "\n",
      "181201361@qq.com\n",
      "\n",
      "179876935@qq.com\n",
      "\n",
      "171406543@qq.com\n",
      "\n",
      "121181895@qq.com\n",
      "\n",
      "122677009@qq.com\n",
      "\n",
      "136867066@qq.com\n",
      "\n",
      "122511528@qq.com\n",
      "\n",
      "17295402@qq.com\n",
      "\n",
      "104381523@qq.com\n",
      "\n",
      "123456@qq.com\n",
      "\n",
      "155461298@qq.com\n",
      "\n",
      "158903057@qq.com\n",
      "\n",
      "168889977@qq.com\n",
      "\n",
      "137424768@qq.com\n",
      "\n",
      "163456411@qq.com\n",
      "\n",
      "181480847@qq.com\n",
      "\n",
      "136473800@qq.com\n",
      "\n",
      "1233456@qq.com\n",
      "\n",
      "1124155@qq.com\n",
      "\n",
      "184767161@qq.com\n",
      "\n",
      "180898834@qq.com\n",
      "\n",
      "1059265846@qq.com\n",
      "\n",
      "191687938@qq.com\n",
      "\n",
      "123@qq.com\n",
      "\n",
      "123122d@qq.com\n",
      "\n",
      "173024310@qq.com\n",
      "\n",
      "115382069@qq.com\n",
      "\n",
      "135004456@qq.com\n",
      "\n",
      "121763469@qq.com\n",
      "\n",
      "108378733@qq.com\n",
      "\n",
      "125328384@qq.com\n",
      "\n",
      "125499766@qq.com\n",
      "\n",
      "176646122@qq.com\n",
      "\n",
      "1711325956@qq.com\n",
      "\n",
      "122389297@qq.com\n",
      "\n",
      "158282109@qq.com\n",
      "\n",
      "109573349@qq.com\n",
      "\n",
      "188157088@qq.com\n",
      "\n",
      "157908408@qq.com\n",
      "\n",
      "14468588@qq.com\n",
      "\n",
      "17880866@qq.com\n",
      "\n",
      "11075153@qq.com\n",
      "\n",
      "123709896@qq.com\n",
      "\n",
      "11139634@qq.com\n",
      "\n",
      "123983776@qq.com\n",
      "\n",
      "114036172@qq.com\n",
      "\n",
      "160273420@qq.com\n",
      "\n",
      "149841358@qq.com\n",
      "\n",
      "181442753@qq.com\n",
      "\n",
      "199251010@qq.com\n",
      "\n",
      "123792735@qq.com\n",
      "\n",
      "119561909@qq.com\n",
      "\n",
      "183928988@qq.com\n",
      "\n",
      "19871230@qq.com\n",
      "\n",
      "12983501@qq.com\n",
      "\n",
      "157769261@qq.com\n",
      "\n",
      "170098444@qq.com\n",
      "\n",
      "188033044@qq.com\n",
      "\n",
      "158368579@qq.com\n",
      "\n",
      "164744460@qq.com\n",
      "\n",
      "123@qq.com\n",
      "\n",
      "120221663@qq.com\n",
      "\n",
      "175624469@qq.com\n",
      "\n",
      "1604020@qq.com\n",
      "\n",
      "18558274@qq.com\n",
      "\n",
      "104694794@qq.com\n",
      "\n",
      "17764341@qq.com\n",
      "\n",
      "17861376@qq.com\n",
      "\n",
      "199676909@qq.com\n",
      "\n",
      "182877159@qq.com\n",
      "\n",
      "123@qq.com\n",
      "\n",
      "105006866@qq.com\n",
      "\n",
      "14442809@qq.com\n",
      "\n",
      "113649241@qq.com\n",
      "\n",
      "122466263@qq.com\n",
      "\n",
      "199211038@qq.com\n",
      "\n",
      "174700190@qq.com\n",
      "\n",
      "124180441@qq.com\n",
      "\n",
      "183603272@qq.com\n",
      "\n",
      "1dragon5235@qq.com\n",
      "\n",
      "109807899@qq.com\n",
      "\n",
      "188588586@qq.com\n",
      "\n",
      "16679338@vip.qq.com\n",
      "\n",
      "124087617@qq.com\n",
      "\n",
      "119229446@qq.com\n",
      "\n",
      "19275248@qq.com\n",
      "\n",
      "120254246@qq.com\n",
      "\n",
      "121000929@qq.com\n",
      "\n",
      "103133372@qq.com\n",
      "\n",
      "1005840818@qq.com\n",
      "\n",
      "124068203@qq.com\n",
      "\n",
      "115003192@qq.com\n",
      "\n",
      "136413783@qq.com\n",
      "\n",
      "10109481@qq.com\n",
      "\n",
      "1595411@qq.com\n",
      "\n",
      "165677287@qq.com\n",
      "\n",
      "158619548@qq.com\n",
      "\n",
      "17582210@qq.com\n",
      "\n",
      "136626575@qq.com\n",
      "\n",
      "124506135@qq.com\n",
      "\n",
      "116788390@qq.com\n",
      "\n",
      "195481428@qq.com\n",
      "\n",
      "1615434@qq.com\n",
      "\n",
      "178915657@qq.com\n",
      "\n",
      "136041283@qq.com\n",
      "\n",
      "120744227@qq.com\n",
      "\n",
      "171058395@qq.com\n",
      "\n",
      "106228094@qq.com\n",
      "\n",
      "19880903@qq.com\n",
      "\n",
      "119643527@qq.com.cn\n",
      "\n",
      "121078784@qq.com\n",
      "\n",
      "105525410@qq.com\n",
      "\n",
      "1030677179@qq.com.cn\n",
      "\n",
      "12343@qq.com\n",
      "\n",
      "1851huhuhgg@qq.com\n",
      "\n",
      "11314018@qq.com\n",
      "\n",
      "170392504@qq.com\n",
      "\n",
      "120580131@qq.com\n",
      "\n",
      "136413783@qq.com\n",
      "\n",
      "14693744@qq.com\n",
      "\n",
      "184175179@qq.com\n",
      "\n",
      "10036654@qq.com\n",
      "\n",
      "110801174@qq.com\n",
      "\n",
      "174465400@qq.com\n",
      "\n",
      "197632846@qq.com\n",
      "\n",
      "14646359@qq.com\n",
      "\n",
      "119643527@qq.com.cn\n",
      "\n",
      "112450030@qq.com\n",
      "\n",
      "120781269@qq.com\n",
      "\n",
      "1231241324@qq.com\n",
      "\n",
      "159654236@qq.com\n",
      "\n",
      "1016039930@qq.com\n",
      "\n",
      "100910412@qq.com\n",
      "\n",
      "170132004@qq.com\n",
      "\n",
      "170084270@qq.com\n",
      "\n",
      "154408009@qq.com\n",
      "\n",
      "119639463@qq.com\n",
      "\n",
      "120193755@qq.com\n",
      "\n",
      "19583109@qq.com\n",
      "\n",
      "172278416@qq.com\n",
      "\n",
      "115218983@qq.com\n",
      "\n",
      "155270835@qq.com\n",
      "\n",
      "191778339@qq.com\n",
      "\n",
      "100194521@qq.com\n",
      "\n",
      "164469159@qq.com\n",
      "\n",
      "1074440388@qq.com\n",
      "\n",
      "18779268@qq.com\n",
      "\n",
      "179878367@.qq.com\n",
      "\n",
      "191010831@qq.com\n",
      "\n",
      "1542364@qq.com\n",
      "\n",
      "1043268807@qq.com\n",
      "\n",
      "153668181@qq.com\n",
      "\n",
      "157007464@qq.com\n",
      "\n",
      "182392236@qq.com\n",
      "\n",
      "170417856@qq.com\n",
      "\n",
      "1007441500@qq.com\n",
      "\n",
      "115724800@qq.com\n",
      "\n",
      "136988257@qq.com\n",
      "\n",
      "142352@qq.com\n",
      "\n",
      "191008722@qq.com\n",
      "\n",
      "150456979@qq.com\n",
      "\n",
      "17115220@qq.com\n",
      "\n",
      "1832945@qq.com\n",
      "\n",
      "14745718@qq.com\n",
      "\n",
      "133717@qq.com\n",
      "\n",
      "171891384@qq.com\n",
      "\n",
      "150192729@qq.com\n",
      "\n",
      "154610842@qq.com\n",
      "\n",
      "173434133@qq.com\n",
      "\n",
      "138410220@qq.com\n",
      "\n",
      "121539256@qq.com\n",
      "\n",
      "11041204@qq.com\n",
      "\n",
      "1023120198@qq.com\n",
      "\n",
      "121213@qq.com\n",
      "\n",
      "190063510@qq.com\n",
      "\n",
      "123468628@qq.com\n",
      "\n",
      "16775419@qq.com\n",
      "\n",
      "121284707@qq.com\n",
      "\n",
      "18830222@qq.com\n",
      "\n",
      "179796473@qq.com\n",
      "\n",
      "178881195@qq.com\n",
      "\n",
      "178868838@qq.com\n",
      "\n",
      "172571852@qq.com\n",
      "\n",
      "191134699@qq.com\n",
      "\n",
      "106355057@qq.com\n",
      "\n",
      "164467163@qq.com\n",
      "\n",
      "137478727@qq.com\n",
      "\n",
      "1014370131@qq.com\n",
      "\n",
      "158024144@qq.com\n",
      "\n",
      "183992829@qq.com\n",
      "\n",
      "10419159@qq.com\n",
      "\n",
      "170544492@qq.com\n",
      "\n",
      "116540916@qq.com\n",
      "\n",
      "178591900@qq.com\n",
      "\n",
      "103341116@qq.com\n",
      "\n",
      "1013615158@qq.com\n",
      "\n",
      "113141273@qq.com\n",
      "\n",
      "176271531@qq.com\n",
      "\n",
      "121312664@qq.com\n",
      "\n",
      "123497672@qq.com\n",
      "\n",
      "124984443@qq.com\n",
      "\n",
      "19949140@qq.com\n",
      "\n",
      "157743365@qq.com\n",
      "\n",
      "120106885@qq.com\n",
      "\n",
      "136262927@qq.com\n",
      "\n",
      "124593273@qq.com\n",
      "\n",
      "112138358@qq.com\n",
      "\n",
      "179879146@qq.com\n",
      "\n",
      "1380017@qq.com\n",
      "\n",
      "109477057@qq.com\n",
      "\n",
      "1053562314@qq.com\n",
      "\n",
      "106156306@qq.com\n",
      "\n",
      "179229226@qq.com\n",
      "\n",
      "118160055@qq.com\n",
      "\n",
      "11@qq.com\n",
      "\n",
      "121539256@qq.com\n",
      "\n",
      "179095941@qq.com\n",
      "\n",
      "158979846@qq.com\n",
      "\n",
      "109900798@qq.com\n",
      "\n",
      "164771563@qq.com\n",
      "\n",
      "120635115@qq.com\n",
      "\n",
      "16649221@qq.com\n",
      "\n",
      "117266458@qq.com\n",
      "\n",
      "170454139@qq.com\n",
      "\n",
      "1042058509Q@qq.com\n",
      "\n",
      "119524810@qq.com\n",
      "\n",
      "102690596@qq.com\n",
      "\n",
      "115015973@qq.com\n",
      "\n",
      "13045367@qq.com\n",
      "\n",
      "154514192@qq.com\n",
      "\n",
      "137688077@qq.com\n",
      "\n",
      "114290246@qq.com\n",
      "\n",
      "120461635@qq.com\n",
      "\n",
      "196299599@qq.com\n",
      "\n",
      "197057792@qq.com\n",
      "\n",
      "137278783@qq.com\n",
      "\n",
      "12080@qq.com\n",
      "\n",
      "121626817@qq.com\n",
      "\n",
      "174481364@qq.com\n",
      "\n",
      "112950104@qq.com\n",
      "\n",
      "118113819@qq.com\n",
      "\n",
      "1011949213@qq.com\n",
      "\n",
      "190270234@qq.com\n",
      "\n",
      "120880145@qq.com\n",
      "\n",
      "149044489@qq.com\n",
      "\n",
      "1041365952@qq.com\n",
      "\n",
      "137178546@qq.com\n",
      "\n",
      "115245075@qq.com\n",
      "\n",
      "156051498@qq.com\n",
      "\n",
      "124108676@qq.com\n",
      "\n",
      "137609289@qq.com\n",
      "\n",
      "175967489@qq.com\n",
      "\n",
      "106675283@qq.com\n",
      "\n",
      "11954496@qq.com\n",
      "\n",
      "122213194@qq.com\n",
      "\n",
      "1023418565@qq.com\n",
      "\n",
      "17328156@qq.com\n",
      "\n",
      "181164106@qq.com\n",
      "\n",
      "1986001002@qq.com\n",
      "\n",
      "121546334@qq.com\n",
      "\n",
      "18221662@qq.com\n",
      "\n",
      "122362366@qq.com\n",
      "\n",
      "181894617@qq.com\n",
      "\n",
      "173223853@qq.com\n",
      "\n",
      "1750370@qq.com\n",
      "\n",
      "16690871@qq.com\n",
      "\n",
      "19101409@qq.com\n",
      "\n",
      "157589438@qq.com\n",
      "\n",
      "178468397@qq.com\n",
      "\n",
      "103907611@qq.com\n",
      "\n",
      "1356456@qq.com\n",
      "\n",
      "12433361@qq.com\n",
      "\n",
      "119418429@qq.com\n",
      "\n",
      "182693801@qq.com\n",
      "\n",
      "125741300@qq.com\n",
      "\n",
      "122475571@qq.com\n",
      "\n",
      "182076799@qq.com\n",
      "\n",
      "14913493@qq.com\n",
      "\n",
      "110738395@qq.com\n",
      "\n",
      "179490484@qq.com\n",
      "\n",
      "157433680@qq.com\n",
      "\n",
      "176243306@qq.com\n",
      "\n",
      "156sadasa@qq.com\n",
      "\n",
      "10778320@qq.com\n",
      "\n",
      "116657036@qq.com\n",
      "\n",
      "125933021@qq.com\n",
      "\n",
      "196856326@qq.com\n",
      "\n",
      "124107583@qq.com\n",
      "\n",
      "125598988@qq.com\n",
      "\n",
      "124563@qq.com\n",
      "\n",
      "18071932@qq.com\n",
      "\n",
      "103747649@qq.com\n",
      "\n",
      "112563167@qq.com\n",
      "\n",
      "1234@qq.com\n",
      "\n",
      "114368@qq.com\n",
      "\n",
      "121832565@qq.com\n",
      "\n",
      "137551863@qq.com\n",
      "\n",
      "1070531567@qq.com\n",
      "\n",
      "1032537498@qq.com\n",
      "\n",
      "170234815@qq.com\n",
      "\n",
      "12344321@qq.com\n",
      "\n",
      "130065205@qq.com\n",
      "\n",
      "100001255@qq.com\n",
      "\n",
      "1713766@qq.com\n",
      "\n",
      "158397@vip.qq.com\n",
      "\n",
      "125151111@qq.com\n",
      "\n",
      "1919881@qq.com\n",
      "\n",
      "156833544@qq.com\n",
      "\n",
      "1044106919@qq.com\n",
      "\n",
      "100661666@qq.com\n",
      "\n",
      "164935318@qq.com\n",
      "\n",
      "100060792@qq.com\n",
      "\n",
      "1766667@qq.com\n",
      "\n",
      "164993543@qq.com\n",
      "\n",
      "15087316@qq.com\n",
      "\n",
      "125479086@qq.com\n",
      "\n",
      "150100392@qq.com\n",
      "\n",
      "16451188@qq.com\n",
      "\n",
      "1002203033@qq.com\n",
      "\n",
      "1009558023@qq.com\n",
      "\n",
      "158412469@qq.com\n",
      "\n",
      "121439528@qq.com\n",
      "\n",
      "121239495@qq.com\n",
      "\n",
      "10182231@qq.com\n",
      "\n",
      "119557430@qq.com\n",
      "\n",
      "105617724@qq.com\n",
      "\n",
      "164744460@qq.com\n",
      "\n",
      "101469495@qq.com\n",
      "\n",
      "137282866@qq.com\n",
      "\n",
      "120921793@qq.com\n",
      "\n",
      "121485221@qq.com\n",
      "\n",
      "185274057@qq.com\n",
      "\n",
      "184738447@qq.com\n",
      "\n",
      "105896914@qq.com\n",
      "\n",
      "107156528@qq.com\n",
      "\n",
      "164423123@qq.com\n",
      "\n",
      "1005661215@qq.com\n",
      "\n",
      "112649776@qq.com\n",
      "\n",
      "123574798@qq.com\n",
      "\n",
      "101081491@qq.com\n",
      "\n",
      "178040240@qq.com\n",
      "\n",
      "170240394@qq.com\n",
      "\n",
      "150303890@qq.com\n",
      "\n",
      "164288949@qq.com\n",
      "\n",
      "13985436@qq.com\n",
      "\n",
      "164744460@qq.com\n",
      "\n",
      "16545648@qq.com\n",
      "\n",
      "171626092@qq.com\n",
      "\n",
      "173947885@qq.com\n",
      "\n",
      "120844448@qq.com\n",
      "\n",
      "121562017@qq.com\n",
      "\n",
      "125349996@qq.com\n",
      "\n",
      "102651150@qq.com\n",
      "\n",
      "121830961@qq.com\n",
      "\n",
      "115901619@qq.com\n",
      "\n",
      "16950686@qq.com\n",
      "\n",
      "136496941@qq.com\n",
      "\n",
      "154308571@qq.com\n",
      "\n",
      "123376554@qq.com\n",
      "\n",
      "1074973774@qq.com\n",
      "\n",
      "197706061@qq.com\n",
      "\n",
      "100000104@qq.com\n",
      "\n",
      "123601017@qq.com\n",
      "\n",
      "179855093@qq.com\n",
      "\n",
      "1007757217@qq.com\n",
      "\n",
      "10605814@qq.com\n",
      "\n",
      "190945653@qq.com\n",
      "\n",
      "12169706@qq.com\n",
      "\n",
      "113488461@qq.com\n",
      "\n",
      "149728571@qq.com\n",
      "\n",
      "12@qq.com\n",
      "\n",
      "117486465@qq.com\n",
      "\n"
     ]
    }
   ],
   "source": [
    "haha = '/Users/123/Desktop/python基础/mail.txt'\n",
    "with open(haha) as f:\n",
    "    for i in range(5000):\n",
    "        lines = f.readline()\n",
    "        if lines[0]=='1':\n",
    "            print(lines)"
   ]
  },
  {
   "cell_type": "markdown",
   "metadata": {},
   "source": [
    "## 比较字符串\n",
    "-  ==, !=, >=, <=, >, <\n",
    "- 依照ASCII码值进行比较"
   ]
  },
  {
   "cell_type": "code",
   "execution_count": 84,
   "metadata": {},
   "outputs": [
    {
     "data": {
      "text/plain": [
       "True"
      ]
     },
     "execution_count": 84,
     "metadata": {},
     "output_type": "execute_result"
    }
   ],
   "source": [
    "'bc'>'ba'"
   ]
  },
  {
   "cell_type": "code",
   "execution_count": 106,
   "metadata": {},
   "outputs": [],
   "source": [
    "#'abcde'输出‘de a ca\"\n",
    "def shuchu_():\n",
    "    a = 'abcde'\n",
    "    print(a[3:5],' ',a[0:1],' ',a[0:4:2])"
   ]
  },
  {
   "cell_type": "code",
   "execution_count": 107,
   "metadata": {},
   "outputs": [
    {
     "name": "stdout",
     "output_type": "stream",
     "text": [
      "de   a   ac\n"
     ]
    }
   ],
   "source": [
    "shuchu_()"
   ]
  },
  {
   "cell_type": "markdown",
   "metadata": {},
   "source": [
    "## 测试字符串\n",
    "![](../Photo/99.png)\n",
    "- 注意：\n",
    "> - isalnum() 中是不能包含空格，否则会返回False"
   ]
  },
  {
   "cell_type": "code",
   "execution_count": 1,
   "metadata": {},
   "outputs": [
    {
     "data": {
      "text/plain": [
       "True"
      ]
     },
     "execution_count": 1,
     "metadata": {},
     "output_type": "execute_result"
    }
   ],
   "source": [
    "a = '12k34'\n",
    "a.isalnum()"
   ]
  },
  {
   "cell_type": "code",
   "execution_count": 5,
   "metadata": {},
   "outputs": [
    {
     "data": {
      "text/plain": [
       "True"
      ]
     },
     "execution_count": 5,
     "metadata": {},
     "output_type": "execute_result"
    }
   ],
   "source": [
    "b = 'abc'\n",
    "b.isalpha()"
   ]
  },
  {
   "cell_type": "code",
   "execution_count": 6,
   "metadata": {},
   "outputs": [
    {
     "data": {
      "text/plain": [
       "True"
      ]
     },
     "execution_count": 6,
     "metadata": {},
     "output_type": "execute_result"
    }
   ],
   "source": [
    "b=' '\n",
    "b.isspace()"
   ]
  },
  {
   "cell_type": "code",
   "execution_count": 5,
   "metadata": {},
   "outputs": [],
   "source": [
    "#检验用户的密码，是否大于8位，是否有大写、小写、数字\n",
    "def mima(a):\n",
    "    N=len(a)\n",
    "    N1,N2,N3=0,0,0\n",
    "    for i in a:\n",
    "        if i.isupper():\n",
    "            N1 += 1\n",
    "        elif i.islower():\n",
    "            N2 += 1\n",
    "        elif i.isdigit():\n",
    "            N3 += 1\n",
    "    if N1==0:\n",
    "        print('密码必须含有大写')\n",
    "    if N2==0:\n",
    "        print('密码必须含有小写')\n",
    "    if N3==0:\n",
    "        print('密码必须含有数字')\n",
    "    if N<=8:\n",
    "        print('密码必须含有8位')"
   ]
  },
  {
   "cell_type": "code",
   "execution_count": 6,
   "metadata": {},
   "outputs": [
    {
     "name": "stdout",
     "output_type": "stream",
     "text": [
      "密码必须含有大写\n"
     ]
    }
   ],
   "source": [
    "a='ehuhj3344'\n",
    "mima(a)"
   ]
  },
  {
   "cell_type": "markdown",
   "metadata": {},
   "source": [
    "## 搜索子串\n",
    "![](../Photo/100.png)"
   ]
  },
  {
   "cell_type": "code",
   "execution_count": 9,
   "metadata": {},
   "outputs": [
    {
     "data": {
      "text/plain": [
       "True"
      ]
     },
     "execution_count": 9,
     "metadata": {},
     "output_type": "execute_result"
    }
   ],
   "source": [
    "a = '帅!'\n",
    "b = '帅帅!'\n",
    "b.endswith(a)"
   ]
  },
  {
   "cell_type": "code",
   "execution_count": 10,
   "metadata": {},
   "outputs": [
    {
     "data": {
      "text/plain": [
       "2"
      ]
     },
     "execution_count": 10,
     "metadata": {},
     "output_type": "execute_result"
    }
   ],
   "source": [
    "b.count('帅')"
   ]
  },
  {
   "cell_type": "code",
   "execution_count": 12,
   "metadata": {},
   "outputs": [
    {
     "data": {
      "text/plain": [
       "1"
      ]
     },
     "execution_count": 12,
     "metadata": {},
     "output_type": "execute_result"
    }
   ],
   "source": [
    "c = 'abcs'\n",
    "c.find('bc')"
   ]
  },
  {
   "cell_type": "code",
   "execution_count": 14,
   "metadata": {},
   "outputs": [
    {
     "data": {
      "text/plain": [
       "5"
      ]
     },
     "execution_count": 14,
     "metadata": {},
     "output_type": "execute_result"
    }
   ],
   "source": [
    "#从右往左找，返回的是从左往右的\n",
    "d = 'abcdea'\n",
    "d.rfind('a')"
   ]
  },
  {
   "cell_type": "code",
   "execution_count": 1,
   "metadata": {},
   "outputs": [],
   "source": [
    "import requests"
   ]
  },
  {
   "cell_type": "code",
   "execution_count": 6,
   "metadata": {},
   "outputs": [
    {
     "name": "stdout",
     "output_type": "stream",
     "text": [
      "http://dmimg.5054399.com/allimg/160217/6_160217142248_2.jpg\n",
      "http://dmimg.5054399.com/allimg/160127/6_160127110842_1.jpg\n",
      "http://dmimg.5054399.com/allimg/160126/6_160126100905_2.jpg\n",
      "http://dmimg.5054399.com/allimg/151028/6_151028142939_1.jpg\n",
      "http://dmimg.5054399.com/allimg/151027/6_151027140205_1.jpg\n",
      "http://dmimg.5054399.com/allimg/151006/6_151006204107_1.jpg\n",
      "http://dmimg.5054399.com/allimg/150927/6_150927153510_1.jpg\n",
      "http://dmimg.5054399.com/allimg/150821/6_150821105253_2.jpg\n",
      "http://dmimg.5054399.com/allimg/150728/6_150728100515_1.jpg\n",
      "http://dmimg.5054399.com/allimg/150727/6_150727114156_1.jpg\n",
      "http://dmimg.5054399.com/allimg/150726/6_150726014844_1.jpg\n",
      "http://dmimg.5054399.com/allimg/150529/6_150529115733_1.jpg\n",
      "http://dmimg.5054399.com/allimg/150505/6_150505112033_1.jpg\n",
      "http://dmimg.5054399.com/allimg/150416/6_150416172603_1.jpg\n",
      "http://dmimg.5054399.com/allimg/150415/6_150415170647_1.jpg\n",
      "http://dmimg.5054399.com/allimg/150414/6_150414115634_1.jpg\n",
      "http://dmimg.5054399.com/allimg/150407/6_150407142509_2.jpg\n",
      "http://dmimg.5054399.com/allimg/150330/6_150330170659_2.jpg\n",
      "http://dmimg.5054399.com/allimg/xiaduo/121.jpg\n",
      "http://dmimg.5054399.com/allimg/xiaduo/122.jpg\n",
      "http://dmimg.5054399.com/allimg/xiaduo/123.jpg\n",
      "http://dmimg.5054399.com/allimg/170415/6_170415112850_1.jpg\n",
      "http://dmimg.5054399.com/allimg/xiaduo/126.jpg\n",
      "http://dmimg.5054399.com/allimg/xiaduo/124.jpg\n",
      "http://dmimg.5054399.com/allimg/170613/42_170613104122_3.jpg\n",
      "http://dmimg.5054399.com/allimg/160217/6_160217142248_3.jpg\n",
      "http://dmimg.5054399.com/allimg/160127/6_160127110842_2.jpg\n",
      "http://dmimg.5054399.com/allimg/160126/6_160126100905_3.jpg\n",
      "http://dmimg.5054399.com/allimg/151028/6_151028142939_2.jpg\n"
     ]
    }
   ],
   "source": [
    "url = 'http://www.4399dmw.com/haizeiwang/tupian/'\n",
    "HTML = requests.get(url).text\n",
    "LIST = HTML.split('\\n')#split拆分\n",
    "for line in LIST:\n",
    "    if  '.jpg' in line:\n",
    "        lin2 = line.split('\"')\n",
    "        for linee in lin2:\n",
    "            if '.jpg' in linee:\n",
    "                print(linee)\n"
   ]
  },
  {
   "cell_type": "markdown",
   "metadata": {},
   "source": [
    "## 转换字符串\n",
    "![](../Photo/101.png)"
   ]
  },
  {
   "cell_type": "code",
   "execution_count": 24,
   "metadata": {},
   "outputs": [
    {
     "data": {
      "text/plain": [
       "'Joker'"
      ]
     },
     "execution_count": 24,
     "metadata": {},
     "output_type": "execute_result"
    }
   ],
   "source": [
    "a = 'joker'\n",
    "a.capitalize()"
   ]
  },
  {
   "cell_type": "code",
   "execution_count": 25,
   "metadata": {},
   "outputs": [
    {
     "data": {
      "text/plain": [
       "'JOKER'"
      ]
     },
     "execution_count": 25,
     "metadata": {},
     "output_type": "execute_result"
    }
   ],
   "source": [
    "a = 'joker'\n",
    "a.swapcase()"
   ]
  },
  {
   "cell_type": "code",
   "execution_count": 26,
   "metadata": {},
   "outputs": [
    {
     "data": {
      "text/plain": [
       "'koker'"
      ]
     },
     "execution_count": 26,
     "metadata": {},
     "output_type": "execute_result"
    }
   ],
   "source": [
    "a = 'joker'\n",
    "a.replace('j','k')"
   ]
  },
  {
   "cell_type": "code",
   "execution_count": 31,
   "metadata": {},
   "outputs": [
    {
     "data": {
      "text/plain": [
       "'koker'"
      ]
     },
     "execution_count": 31,
     "metadata": {},
     "output_type": "execute_result"
    }
   ],
   "source": [
    "a = 'jojer'\n",
    "a.replace('j','k',2)"
   ]
  },
  {
   "cell_type": "markdown",
   "metadata": {},
   "source": [
    "## 删除字符串\n",
    "![](../Photo/146.png)"
   ]
  },
  {
   "cell_type": "code",
   "execution_count": 33,
   "metadata": {},
   "outputs": [
    {
     "data": {
      "text/plain": [
       "'abcd '"
      ]
     },
     "execution_count": 33,
     "metadata": {},
     "output_type": "execute_result"
    }
   ],
   "source": [
    "#删掉前端的空格\n",
    "b = ' abcd '\n",
    "b.lstrip()"
   ]
  },
  {
   "cell_type": "markdown",
   "metadata": {},
   "source": [
    "## 格式化字符串\n",
    "![](../Photo/103.png)"
   ]
  },
  {
   "cell_type": "markdown",
   "metadata": {},
   "source": [
    "## EP:\n",
    "- 1\n",
    "![](../Photo/104.png)\n",
    "- 2 \n",
    "    随机参数100个数字，将www.baidu.com/?page=进行拼接"
   ]
  },
  {
   "cell_type": "markdown",
   "metadata": {},
   "source": [
    "## Python高级使用方法 -- 字符串\n",
    "- 我们经常使用的方法实际上就是调用Python的运算重载\n",
    "![](../Photo/105.png)"
   ]
  },
  {
   "cell_type": "code",
   "execution_count": 1,
   "metadata": {},
   "outputs": [
    {
     "data": {
      "text/plain": [
       "'ab'"
      ]
     },
     "execution_count": 1,
     "metadata": {},
     "output_type": "execute_result"
    }
   ],
   "source": [
    "a = 'a'\n",
    "b = 'b'\n",
    "a + b"
   ]
  },
  {
   "cell_type": "code",
   "execution_count": 2,
   "metadata": {},
   "outputs": [
    {
     "data": {
      "text/plain": [
       "'ab'"
      ]
     },
     "execution_count": 2,
     "metadata": {},
     "output_type": "execute_result"
    }
   ],
   "source": [
    "a.__add__('b')"
   ]
  },
  {
   "cell_type": "code",
   "execution_count": 3,
   "metadata": {},
   "outputs": [
    {
     "data": {
      "text/plain": [
       "'aaaaaaaaaa'"
      ]
     },
     "execution_count": 3,
     "metadata": {},
     "output_type": "execute_result"
    }
   ],
   "source": [
    "a.__mul__(10)"
   ]
  },
  {
   "cell_type": "markdown",
   "metadata": {},
   "source": [
    "# Homework\n",
    "- 1\n",
    "![](../Photo/106.png)"
   ]
  },
  {
   "cell_type": "code",
   "execution_count": 13,
   "metadata": {},
   "outputs": [],
   "source": [
    "def SSN_(b):#定义一个名为SSN_的函数\n",
    "    c=str(b)#将b转换成字符串类型\n",
    "    a = '222-22-2222'#设置一个默认的社会安全号码\n",
    "    if c==a:#如果用户输入的社会安全号码 等于 默认的社会安全号码\n",
    "        print('Valid SSN')\n",
    "    else:\n",
    "        print('Invalid SSN')"
   ]
  },
  {
   "cell_type": "code",
   "execution_count": 25,
   "metadata": {},
   "outputs": [
    {
     "name": "stdout",
     "output_type": "stream",
     "text": [
      "Valid SSN\n"
     ]
    }
   ],
   "source": [
    "b='222-22-2222'\n",
    "SSN_(b)#调用函数"
   ]
  },
  {
   "cell_type": "markdown",
   "metadata": {},
   "source": [
    "- 2\n",
    "![](../Photo/107.png)"
   ]
  },
  {
   "cell_type": "code",
   "execution_count": 18,
   "metadata": {},
   "outputs": [],
   "source": [
    "def zichuan(a,b):#定义一个名为zichuan的函数\n",
    "    c=str(a)#将a转换成字符串类型\n",
    "    d=str(b)#将b转换成字符串类型\n",
    "    if c in d:#如果a在b里\n",
    "        print('a是b的子字符串')\n",
    "    else:\n",
    "        print('a不是b的子字符串')"
   ]
  },
  {
   "cell_type": "code",
   "execution_count": 24,
   "metadata": {},
   "outputs": [
    {
     "name": "stdout",
     "output_type": "stream",
     "text": [
      "a是b的子字符串\n"
     ]
    }
   ],
   "source": [
    "a='as'\n",
    "b='asdf'\n",
    "zichuan(a,b)#调用函数"
   ]
  },
  {
   "cell_type": "markdown",
   "metadata": {},
   "source": [
    "- 3\n",
    "![](../Photo/108.png)"
   ]
  },
  {
   "cell_type": "code",
   "execution_count": 23,
   "metadata": {},
   "outputs": [],
   "source": [
    "def mima(a):#定义一个名字为mima的函数\n",
    "    N=len(a)#测密码的长度\n",
    "    N1,N2,N3=0,0,0\n",
    "    for i in a:#用for循环对密码的每一个字符进行检测\n",
    "        if i.isupper():#检验大写\n",
    "            N1 += 1\n",
    "        elif i.islower():#检验小写\n",
    "            N2 += 1\n",
    "        elif i.isdigit():#检验数字\n",
    "            N3 += 1\n",
    "    if N1==0 and N2==0:\n",
    "        print('密码必须含有字母')\n",
    "    if N3<2:\n",
    "        print('密码至少含有两个数字')\n",
    "    if N<8:\n",
    "        print('密码至少含有8位')"
   ]
  },
  {
   "cell_type": "code",
   "execution_count": 26,
   "metadata": {},
   "outputs": [
    {
     "name": "stdout",
     "output_type": "stream",
     "text": [
      "密码至少含有两个数字\n"
     ]
    }
   ],
   "source": [
    "a='njhi6hhh'\n",
    "mima(a)"
   ]
  },
  {
   "cell_type": "markdown",
   "metadata": {},
   "source": [
    "- 4\n",
    "![](../Photo/109.png)"
   ]
  },
  {
   "cell_type": "code",
   "execution_count": 3,
   "metadata": {},
   "outputs": [],
   "source": [
    "def geshu(a):#定义一个geshu的函数\n",
    "    b=str(a)#将a转换成字符串类型\n",
    "    N=0\n",
    "    for i in b:#用for循环对密码的每一个字符进行检测\n",
    "        if i.isupper():#检验大写\n",
    "            N+=1\n",
    "        if i.islower():#检验小写\n",
    "            N+=1\n",
    "            \n",
    "    print(N)"
   ]
  },
  {
   "cell_type": "code",
   "execution_count": 4,
   "metadata": {},
   "outputs": [
    {
     "name": "stdout",
     "output_type": "stream",
     "text": [
      "5\n"
     ]
    }
   ],
   "source": [
    "a = 'njkN456S'\n",
    "geshu(a)"
   ]
  },
  {
   "cell_type": "markdown",
   "metadata": {},
   "source": [
    "- 5\n",
    "![](../Photo/110.png)"
   ]
  },
  {
   "cell_type": "code",
   "execution_count": 11,
   "metadata": {},
   "outputs": [],
   "source": [
    "def getNumber(a):\n",
    "    b = str(a)\n",
    "    'a’,'b','c','d','e','f','g','h','i','j' = '@-_/','ABC','DEF','GHI','JKL','MNO','PQRS','TUV','WXYZ'\n",
    "    for i in b:#用for循环对密码的每一个字符进行检测\n",
    "        if i.isalpha():\n",
    "            print(i)\n",
    "            if i in 1:\n",
    "                print(1)"
   ]
  },
  {
   "cell_type": "code",
   "execution_count": 12,
   "metadata": {},
   "outputs": [
    {
     "ename": "ValueError",
     "evalue": "not enough values to unpack (expected 10, got 9)",
     "output_type": "error",
     "traceback": [
      "\u001b[1;31m---------------------------------------------------------------------------\u001b[0m",
      "\u001b[1;31mValueError\u001b[0m                                Traceback (most recent call last)",
      "\u001b[1;32m<ipython-input-12-103f2042ad6c>\u001b[0m in \u001b[0;36m<module>\u001b[1;34m\u001b[0m\n\u001b[0;32m      1\u001b[0m \u001b[0ma\u001b[0m\u001b[1;33m=\u001b[0m\u001b[1;34m'@'\u001b[0m\u001b[1;33m\u001b[0m\u001b[1;33m\u001b[0m\u001b[0m\n\u001b[1;32m----> 2\u001b[1;33m \u001b[0mgetNumber\u001b[0m\u001b[1;33m(\u001b[0m\u001b[0ma\u001b[0m\u001b[1;33m)\u001b[0m\u001b[1;33m\u001b[0m\u001b[1;33m\u001b[0m\u001b[0m\n\u001b[0m",
      "\u001b[1;32m<ipython-input-11-efca86bb02d1>\u001b[0m in \u001b[0;36mgetNumber\u001b[1;34m(a)\u001b[0m\n\u001b[0;32m      1\u001b[0m \u001b[1;32mdef\u001b[0m \u001b[0mgetNumber\u001b[0m\u001b[1;33m(\u001b[0m\u001b[0ma\u001b[0m\u001b[1;33m)\u001b[0m\u001b[1;33m:\u001b[0m\u001b[1;33m\u001b[0m\u001b[1;33m\u001b[0m\u001b[0m\n\u001b[0;32m      2\u001b[0m     \u001b[0mb\u001b[0m \u001b[1;33m=\u001b[0m \u001b[0mstr\u001b[0m\u001b[1;33m(\u001b[0m\u001b[0ma\u001b[0m\u001b[1;33m)\u001b[0m\u001b[1;33m\u001b[0m\u001b[1;33m\u001b[0m\u001b[0m\n\u001b[1;32m----> 3\u001b[1;33m     \u001b[0ma\u001b[0m\u001b[1;33m,\u001b[0m\u001b[0mb\u001b[0m\u001b[1;33m,\u001b[0m\u001b[0mc\u001b[0m\u001b[1;33m,\u001b[0m\u001b[0md\u001b[0m\u001b[1;33m,\u001b[0m\u001b[0me\u001b[0m\u001b[1;33m,\u001b[0m\u001b[0mf\u001b[0m\u001b[1;33m,\u001b[0m\u001b[0mg\u001b[0m\u001b[1;33m,\u001b[0m\u001b[0mh\u001b[0m\u001b[1;33m,\u001b[0m\u001b[0mi\u001b[0m\u001b[1;33m,\u001b[0m\u001b[0mj\u001b[0m \u001b[1;33m=\u001b[0m \u001b[1;34m'@-_/'\u001b[0m\u001b[1;33m,\u001b[0m\u001b[1;34m'ABC'\u001b[0m\u001b[1;33m,\u001b[0m\u001b[1;34m'DEF'\u001b[0m\u001b[1;33m,\u001b[0m\u001b[1;34m'GHI'\u001b[0m\u001b[1;33m,\u001b[0m\u001b[1;34m'JKL'\u001b[0m\u001b[1;33m,\u001b[0m\u001b[1;34m'MNO'\u001b[0m\u001b[1;33m,\u001b[0m\u001b[1;34m'PQRS'\u001b[0m\u001b[1;33m,\u001b[0m\u001b[1;34m'TUV'\u001b[0m\u001b[1;33m,\u001b[0m\u001b[1;34m'WXYZ'\u001b[0m\u001b[1;33m\u001b[0m\u001b[1;33m\u001b[0m\u001b[0m\n\u001b[0m\u001b[0;32m      4\u001b[0m     \u001b[1;32mfor\u001b[0m \u001b[0mi\u001b[0m \u001b[1;32min\u001b[0m \u001b[0mb\u001b[0m\u001b[1;33m:\u001b[0m\u001b[1;31m#用for循环对密码的每一个字符进行检测\u001b[0m\u001b[1;33m\u001b[0m\u001b[1;33m\u001b[0m\u001b[0m\n\u001b[0;32m      5\u001b[0m         \u001b[1;32mif\u001b[0m \u001b[0mi\u001b[0m\u001b[1;33m.\u001b[0m\u001b[0misalpha\u001b[0m\u001b[1;33m(\u001b[0m\u001b[1;33m)\u001b[0m\u001b[1;33m:\u001b[0m\u001b[1;33m\u001b[0m\u001b[1;33m\u001b[0m\u001b[0m\n",
      "\u001b[1;31mValueError\u001b[0m: not enough values to unpack (expected 10, got 9)"
     ]
    }
   ],
   "source": [
    "a='@'\n",
    "getNumber(a)"
   ]
  },
  {
   "cell_type": "markdown",
   "metadata": {},
   "source": [
    "- 6\n",
    "![](../Photo/111.png)"
   ]
  },
  {
   "cell_type": "code",
   "execution_count": 36,
   "metadata": {},
   "outputs": [],
   "source": [
    "#百度的，reverse()函数将列表的内容进行了反转，借助这个特性\n",
    "#可以先将字符串化成列表\n",
    "#利用reverse()函数进行反转后，再处理成字符串\n",
    "def reverse1(a):\n",
    "    b=list(a)\n",
    "    b.reverse()\n",
    "    print(b)"
   ]
  },
  {
   "cell_type": "code",
   "execution_count": 37,
   "metadata": {},
   "outputs": [
    {
     "name": "stdout",
     "output_type": "stream",
     "text": [
      "['h', 'g', 'f', 'd', 's', 'a']\n"
     ]
    }
   ],
   "source": [
    "a='asdfgh'\n",
    "reverse1(a)"
   ]
  },
  {
   "cell_type": "markdown",
   "metadata": {},
   "source": [
    "- 7\n",
    "![](../Photo/112.png)"
   ]
  },
  {
   "cell_type": "markdown",
   "metadata": {},
   "source": [
    "- 8\n",
    "![](../Photo/113.png)"
   ]
  },
  {
   "cell_type": "markdown",
   "metadata": {},
   "source": [
    "- 9\n",
    "![](../Photo/114.png)"
   ]
  },
  {
   "cell_type": "code",
   "execution_count": null,
   "metadata": {},
   "outputs": [],
   "source": []
  }
 ],
 "metadata": {
  "kernelspec": {
   "display_name": "Python 3",
   "language": "python",
   "name": "python3"
  },
  "language_info": {
   "codemirror_mode": {
    "name": "ipython",
    "version": 3
   },
   "file_extension": ".py",
   "mimetype": "text/x-python",
   "name": "python",
   "nbconvert_exporter": "python",
   "pygments_lexer": "ipython3",
   "version": "3.7.3"
  }
 },
 "nbformat": 4,
 "nbformat_minor": 2
}
